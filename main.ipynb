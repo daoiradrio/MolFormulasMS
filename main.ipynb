{
 "cells": [
  {
   "cell_type": "code",
   "execution_count": null,
   "metadata": {},
   "outputs": [],
   "source": [
    "import math\n",
    "import itertools\n",
    "import pandas as pd"
   ]
  },
  {
   "cell_type": "code",
   "execution_count": null,
   "metadata": {},
   "outputs": [],
   "source": [
    "# elements without isotope pattern in mass spectra\n",
    "elements = [\"C\",\"H\", \"O\", \"N\", \"P\", \"F\", \"I\"]\n",
    "\n",
    "# elements with isotope patterns in mass spectra\n",
    "isotope_pattern_elements = [\"Cl\", \"Br\", \"S\", \"Si\", \"B\"]"
   ]
  },
  {
   "cell_type": "code",
   "execution_count": null,
   "metadata": {},
   "outputs": [],
   "source": [
    "# only for preparing the csv file\n",
    "\n",
    "'''\n",
    "import periodictable as pse\n",
    "\n",
    "masses = {\n",
    "    \"C\" : pse.carbon.mass, \n",
    "    \"H\" : pse.hydrogen.mass,\n",
    "    \"N\" : pse.nitrogen.mass,\n",
    "    \"O\" : pse.oxygen.mass,\n",
    "    \"F\" : pse.fluorine.mass,\n",
    "    \"Cl\" : pse.chlorine.mass,\n",
    "    \"Br\" : pse.bromine.mass,\n",
    "    \"I\" : pse.iodine.mass,\n",
    "    \"Si\" : pse.silicon.mass,\n",
    "    \"P\" : pse.phosphorus.mass,\n",
    "    \"S\" : pse.sulfur.mass,\n",
    "    \"B\" : pse.boron.mass\n",
    "}\n",
    "\n",
    "with open(\"element_masses.csv\", \"a\") as f:\n",
    "    print(\"element, mass\", file=f)\n",
    "for element in element_symbols:\n",
    "    with open(\"element_masses.csv\", \"a\") as f:\n",
    "        print(f\"{element}, {masses[elem]:.5f}\", file=f)\n",
    "'''"
   ]
  },
  {
   "cell_type": "code",
   "execution_count": null,
   "metadata": {},
   "outputs": [],
   "source": [
    "# exact mass of the mass peak\n",
    "mass = 98.0\n",
    "\n",
    "# tolerance for deviation between predicted formula mass and given mass\n",
    "tol = 0.1\n",
    "\n",
    "# read element masses from csv file\n",
    "elements_masses = pd.read_csv(\"element_masses.csv\", sep=\",\", index_col=\"element\")"
   ]
  },
  {
   "cell_type": "code",
   "execution_count": null,
   "metadata": {},
   "outputs": [],
   "source": [
    "# some elements always have to be considered, therefore just copy them over\n",
    "possible_elements = elements.copy()\n",
    "# for smoothly handling false input\n",
    "isotope_pattern_choice = None\n",
    "\n",
    "while not (isotope_pattern_choice == \"Yes\" or isotope_pattern_choice == \"No\"):\n",
    "        \n",
    "    # user decides has to tell if there is an isotope pattern\n",
    "    isotope_pattern_choice = input(\"Isotope pattern (Yes/No)?: \")\n",
    "\n",
    "    # if there is an isotope patter in the spectrum collect the corresponding elements\n",
    "    if isotope_pattern_choice == \"Yes\":\n",
    "\n",
    "        for element in isotope_pattern_elements:\n",
    "                \n",
    "            # for smoothly handling false input\n",
    "            element_choice = None\n",
    "\n",
    "            while not (element_choice == \"Yes\" or element_choice == \"No\"):\n",
    "                    \n",
    "                # user has to tell if isotope pattern corresponds to current element\n",
    "                element_choice = input(f\"{element} (Yes/No)?: \")\n",
    "\n",
    "                if element_choice == \"Yes\":\n",
    "                        \n",
    "                    possible_elements.append(element)"
   ]
  },
  {
   "cell_type": "code",
   "execution_count": null,
   "metadata": {},
   "outputs": [],
   "source": [
    "num_elements = {}\n",
    "\n",
    "for element in possible_elements:\n",
    "\n",
    "    # get (mathematically) highest possible number of element in the molecule given the total mass\n",
    "    num_element = math.ceil(mass / elements_masses.loc[element].iloc[0])\n",
    "        \n",
    "    # store all numbers {0, ..., highest possible number}\n",
    "    num_elements[element] = [i for i in range(num_element)]"
   ]
  },
  {
   "cell_type": "code",
   "execution_count": null,
   "metadata": {},
   "outputs": [],
   "source": [
    "# collect all predicted formulas in list\n",
    "formulas = []\n",
    "# convert possible numbers of elements to list to create combinations\n",
    "n = list(num_elements.values())\n",
    "\n",
    "# loop over all possible combinations of numbers of the different elements\n",
    "for combination in itertools.product(*n):\n",
    "\n",
    "    formula = \"\"\n",
    "\n",
    "    # to compare against mass peak within tolerance\n",
    "    formula_mass = 0\n",
    "\n",
    "    # \"double bound equivalents\" to check if formula is chemically reasonable\n",
    "    dbe = 0\n",
    "\n",
    "    # index i corresponds to the index of the element in possible_elements, n to the highest possible number\n",
    "    for i, n in enumerate(combination):\n",
    "        \n",
    "        # element not in molecule, don't to formula and continue with next element\n",
    "        if n == 0:\n",
    "            continue\n",
    "\n",
    "        element = possible_elements[i]\n",
    "\n",
    "        # leave out index 1 for elements in formula\n",
    "        if n > 1:\n",
    "            formula += f\"{element}{n}\"\n",
    "        else:\n",
    "            formula += element\n",
    "\n",
    "        # add respective element mass to total formula mass\n",
    "        formula_mass += n * elements_masses.loc[element].iloc[0]\n",
    "\n",
    "        # add respective contributation to double bound equivalent\n",
    "        if element in [\"C\", \"Si\"]:\n",
    "            dbe += 2 * n\n",
    "        elif element in [\"B\", \"N\", \"P\"]:\n",
    "            dbe += n\n",
    "        elif element in [\"H\", \"F\", \"Cl\", \"Br\", \"I\"]:\n",
    "            dbe -= n\n",
    "\n",
    "    # single O and S atom not reasonable but have to be checked individually\n",
    "    if formula == \"O\" or formula == \"S\":\n",
    "        continue\n",
    "\n",
    "    # if deviation to mass peak higher than chosen tolerance discard the formula\n",
    "    if abs(formula_mass - mass) > tol:\n",
    "        continue\n",
    "\n",
    "    dbe = (dbe + 2) / 2\n",
    "    # reasonable chemical formulas have positive integer double bound equivalents\n",
    "    if dbe < 0:\n",
    "        continue\n",
    "    if dbe % 1 != 0:\n",
    "        continue\n",
    "\n",
    "    # if all checks passed store formula as potential candidate\n",
    "    formulas.append(formula)"
   ]
  },
  {
   "cell_type": "code",
   "execution_count": null,
   "metadata": {},
   "outputs": [],
   "source": [
    "print(\"Possible molecular formulas are:\", end=\"\\n\\n\")\n",
    "for formula in formulas:\n",
    "    print(formula)"
   ]
  }
 ],
 "metadata": {
  "kernelspec": {
   "display_name": "DataProg",
   "language": "python",
   "name": "python3"
  },
  "language_info": {
   "codemirror_mode": {
    "name": "ipython",
    "version": 3
   },
   "file_extension": ".py",
   "mimetype": "text/x-python",
   "name": "python",
   "nbconvert_exporter": "python",
   "pygments_lexer": "ipython3",
   "version": "3.11.5"
  }
 },
 "nbformat": 4,
 "nbformat_minor": 2
}
